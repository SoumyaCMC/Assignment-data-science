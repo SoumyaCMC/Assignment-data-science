{
 "cells": [
  {
   "cell_type": "code",
   "execution_count": 1,
   "id": "6e4c55c3-421c-4c43-8bf5-86526701e33c",
   "metadata": {},
   "outputs": [
    {
     "name": "stderr",
     "output_type": "stream",
     "text": [
      "*c* argument looks like a single numeric RGB or RGBA sequence, which should be avoided as value-mapping will have precedence in case its length matches with *x* & *y*.  Please use the *color* keyword-argument or provide a 2D array with a single row if you intend to specify the same RGB or RGBA value for all points.\n",
      "*c* argument looks like a single numeric RGB or RGBA sequence, which should be avoided as value-mapping will have precedence in case its length matches with *x* & *y*.  Please use the *color* keyword-argument or provide a 2D array with a single row if you intend to specify the same RGB or RGBA value for all points.\n",
      "*c* argument looks like a single numeric RGB or RGBA sequence, which should be avoided as value-mapping will have precedence in case its length matches with *x* & *y*.  Please use the *color* keyword-argument or provide a 2D array with a single row if you intend to specify the same RGB or RGBA value for all points.\n",
      "*c* argument looks like a single numeric RGB or RGBA sequence, which should be avoided as value-mapping will have precedence in case its length matches with *x* & *y*.  Please use the *color* keyword-argument or provide a 2D array with a single row if you intend to specify the same RGB or RGBA value for all points.\n"
     ]
    },
    {
     "data": {
      "image/png": "[encoded data removed]",
      "text/plain": [
       "<Figure size 432x288 with 1 Axes>"
      ]
     },
     "metadata": {
      "needs_background": "light"
     },
     "output_type": "display_data"
    }
   ],
   "source": [
    "from matplotlib import pyplot as plt\n",
    "import matplotlib.collections as mcol\n",
    "import matplotlib.transforms as mtransforms\n",
    "import numpy as np\n",
    "from matplotlib.legend_handler import HandlerPathCollection\n",
    "from matplotlib import cm\n",
    "\n",
    "\n",
    "class HandlerMultiPathCollection(HandlerPathCollection):\n",
    "    \"\"\"\n",
    "    Handler for PathCollections, which are used by scatter\n",
    "    \"\"\"\n",
    "    def create_collection(self, orig_handle, sizes, offsets, transOffset):\n",
    "        p = type(orig_handle)(orig_handle.get_paths(), sizes=sizes,\n",
    "                              offsets=offsets,\n",
    "                              transOffset=transOffset,\n",
    "                              )\n",
    "        return p\n",
    "\n",
    "fig, ax = plt.subplots()\n",
    "#make some data to plot\n",
    "x = np.arange(0, 100, 10)\n",
    "models = [.05 * x, 8 * np.exp(- .1 * x), np.log(x + 1), .01 * x]\n",
    "tests = [model + np.random.rand(len(model)) - .5 for model in models]\n",
    "#make colors and markers\n",
    "colors = cm.brg(np.linspace(0, 1, len(models)))\n",
    "markers = ['o', 'D', '*', 's']\n",
    "markersize = 50\n",
    "plots = []\n",
    "#plot points and lines\n",
    "for i in range(len(models)):\n",
    "    line, = plt.plot(x, models[i], linestyle = 'dashed', color = 'black', label = 'Model')\n",
    "    plot = plt.scatter(x, tests[i], c = colors[i], s = markersize, marker = markers[i])\n",
    "    plots.append(plot)\n",
    "\n",
    "#get attributes\n",
    "paths = []\n",
    "sizes = []\n",
    "facecolors = []\n",
    "edgecolors = []\n",
    "for plot in plots:\n",
    "    paths.append(plot.get_paths()[0])\n",
    "    sizes.append(plot.get_sizes()[0])\n",
    "    edgecolors.append(plot.get_edgecolors()[0])\n",
    "    facecolors.append(plot.get_facecolors()[0])\n",
    "\n",
    "#make proxy artist out of a collection of markers\n",
    "PC = mcol.PathCollection(paths, sizes, transOffset = ax.transData, facecolors = colors, edgecolors = edgecolors)\n",
    "PC.set_transform(mtransforms.IdentityTransform())\n",
    "plt.legend([PC, line], ['Test', 'Model'], handler_map = {type(PC) : HandlerMultiPathCollection()}, scatterpoints = len(paths), scatteryoffsets = [.5], handlelength = len(paths))\n",
    "plt.show()"
   ]
  },
  {
   "cell_type": "code",
   "execution_count": 6,
   "id": "1989e2dc-35a9-4ffb-9e57-4e2eb08c4d68",
   "metadata": {},
   "outputs": [
    {
     "name": "stdout",
     "output_type": "stream",
     "text": [
      "4 \t 4 \t 4 \t 4\n"
     ]
    }
   ],
   "source": [
    "print(len(tests),'\\t',len(models),'\\t',len(colors),'\\t',len(paths))\n"
   ]
  },
  {
   "cell_type": "code",
   "execution_count": 7,
   "id": "f4aa35d4-95b7-423b-bc8b-1b20a3378ba4",
   "metadata": {},
   "outputs": [
    {
     "name": "stdout",
     "output_type": "stream",
     "text": [
      "Path(array([[-0.5, -0.5],\n",
      "       [ 0.5, -0.5],\n",
      "       [ 0.5,  0.5],\n",
      "       [-0.5,  0.5],\n",
      "       [-0.5, -0.5]]), array([ 1,  2,  2,  2, 79], dtype=uint8))\n"
     ]
    }
   ],
   "source": []
  },
  {
   "cell_type": "code",
   "execution_count": 11,
   "id": "1d11267b-09f0-41e6-9b01-4c56666828f0",
   "metadata": {},
   "outputs": [
    {
     "name": "stdout",
     "output_type": "stream",
     "text": [
      "<matplotlib.collections.PathCollection object at 0x7f273eee4040>\n"
     ]
    }
   ],
   "source": [
    "print(PC)"
   ]
  },
  {
   "cell_type": "code",
   "execution_count": 20,
   "id": "408fdf39-0953-4524-839e-4de9eda9d6da",
   "metadata": {},
   "outputs": [
    {
     "name": "stdout",
     "output_type": "stream",
     "text": [
      "[-0.13992786  0.53934592  0.5292769   1.75241462  2.20459328  2.40814116\n",
      "  3.16461445  3.95097742  3.79198915  4.83914595]\n"
     ]
    }
   ],
   "source": [
    "print(tests[0])"
   ]
  },
  {
   "cell_type": "code",
   "execution_count": 14,
   "id": "dece26ac-3674-41e2-843f-3581e68a3d70",
   "metadata": {},
   "outputs": [
    {
     "name": "stdout",
     "output_type": "stream",
     "text": [
      "[ 0 10 20 30 40 50 60 70 80 90]\n"
     ]
    }
   ],
   "source": [
    "print(x)"
   ]
  },
  {
   "cell_type": "code",
   "execution_count": null,
   "id": "ceb8f5de-26c9-48b1-a875-f7583f629c0e",
   "metadata": {},
   "outputs": [
    {
     "name": "stdout",
     "output_type": "stream",
     "text": [
      "[[0.         0.         1.         1.        ]\n",
      " [0.66666667 0.         0.33333333 1.        ]\n",
      " [0.66666667 0.33333333 0.         1.        ]\n",
      " [0.         1.         0.         1.        ]]\n"
     ]
    }
   ],
   "source": [
    "print(colors)"
   ]
  },
  {
   "cell_type": "code",
   "execution_count": 3,
   "id": "0f4f8d07-f074-4185-8fea-ce667efa61de",
   "metadata": {},
   "outputs": [
    {
     "name": "stdout",
     "output_type": "stream",
     "text": [
      "4\n"
     ]
    }
   ],
   "source": [
    "print(len(paths))"
   ]
  },
  {
   "cell_type": "code",
   "execution_count": 4,
   "id": "f1cfb748-436e-4287-8f7f-a29f100ff0ba",
   "metadata": {},
   "outputs": [
    {
     "name": "stdout",
     "output_type": "stream",
     "text": [
      "no\n"
     ]
    }
   ],
   "source": [
    "if (ax==plt):\n",
    "    print('yes')\n",
    "else:\n",
    "    print('no')"
   ]
  },
  {
   "cell_type": "code",
   "execution_count": 5,
   "id": "ba9f009b-17e1-4850-9d96-0c653ad7c2d4",
   "metadata": {},
   "outputs": [
    {
     "data": {
      "text/plain": [
       "array([[0.        , 0.        , 1.        , 1.        ],\n",
       "       [0.66666667, 0.        , 0.33333333, 1.        ],\n",
       "       [0.66666667, 0.33333333, 0.        , 1.        ],\n",
       "       [0.        , 1.        , 0.        , 1.        ]])"
      ]
     },
     "execution_count": 5,
     "metadata": {},
     "output_type": "execute_result"
    }
   ],
   "source": [
    "colors"
   ]
  },
  {
   "cell_type": "code",
   "execution_count": 6,
   "id": "e417ab1d-fd87-4800-8421-9c805f5f992c",
   "metadata": {},
   "outputs": [
    {
     "data": {
      "text/plain": [
       "<matplotlib.transforms.CompositeGenericTransform at 0x7f6906f114f0>"
      ]
     },
     "execution_count": 6,
     "metadata": {},
     "output_type": "execute_result"
    }
   ],
   "source": [
    "ax.transData"
   ]
  },
  {
   "cell_type": "code",
   "execution_count": null,
   "id": "82cbdfc6-bb25-4df3-8567-c465d75260c3",
   "metadata": {},
   "outputs": [],
   "source": []
  }
 ],
 "metadata": {
  "kernelspec": {
   "display_name": "Python 3 (ipykernel)",
   "language": "python",
   "name": "python3"
  },
  "language_info": {
   "codemirror_mode": {
    "name": "ipython",
    "version": 3
   },
   "file_extension": ".py",
   "mimetype": "text/x-python",
   "name": "python",
   "nbconvert_exporter": "python",
   "pygments_lexer": "ipython3",
   "version": "3.8.10"
  }
 },
 "nbformat": 4,
 "nbformat_minor": 5
}
